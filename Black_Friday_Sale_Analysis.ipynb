{
  "nbformat": 4,
  "nbformat_minor": 0,
  "metadata": {
    "colab": {
      "name": "Black Friday Sale Analysis",
      "provenance": [],
      "collapsed_sections": [
        "pSUjjREeiWsl",
        "xHriD_D2lxIw",
        "uokYza-A2CqO"
      ],
      "toc_visible": true,
      "authorship_tag": "ABX9TyP9J63qBdXNvLiAConDBPsr",
      "include_colab_link": true
    },
    "kernelspec": {
      "name": "python3",
      "display_name": "Python 3"
    }
  },
  "cells": [
    {
      "cell_type": "markdown",
      "metadata": {
        "id": "view-in-github",
        "colab_type": "text"
      },
      "source": [
        "<a href=\"https://colab.research.google.com/github/ManavKaul/Black-Friday-Sale/blob/main/Black_Friday_Sale_Analysis.ipynb\" target=\"_parent\"><img src=\"https://colab.research.google.com/assets/colab-badge.svg\" alt=\"Open In Colab\"/></a>"
      ]
    },
    {
      "cell_type": "code",
      "metadata": {
        "id": "mEQiOv2UPNQW"
      },
      "source": [
        "import numpy as np\n",
        "import pandas as pd\n",
        "import matplotlib.pyplot as plt\n",
        "import seaborn as sns"
      ],
      "execution_count": null,
      "outputs": []
    },
    {
      "cell_type": "code",
      "metadata": {
        "id": "qEBv0n2yb62L"
      },
      "source": [
        "#Importing the Black Friday Sales Data from Kaggle\n",
        "df= pd.read_csv('BlackFriday.csv')"
      ],
      "execution_count": null,
      "outputs": []
    },
    {
      "cell_type": "code",
      "metadata": {
        "id": "vbl6qtiMhj_7",
        "outputId": "2fd10615-da25-4f4b-9a2a-76ca5729783d",
        "colab": {
          "base_uri": "https://localhost:8080/",
          "height": 34
        }
      },
      "source": [
        "df.shape"
      ],
      "execution_count": null,
      "outputs": [
        {
          "output_type": "execute_result",
          "data": {
            "text/plain": [
              "(537577, 12)"
            ]
          },
          "metadata": {
            "tags": []
          },
          "execution_count": 187
        }
      ]
    },
    {
      "cell_type": "markdown",
      "metadata": {
        "id": "X_1xlI31hyGP"
      },
      "source": [
        "* ***There are 537,577 sales entries***"
      ]
    },
    {
      "cell_type": "code",
      "metadata": {
        "id": "wYZp4Hmqh8tx",
        "outputId": "57820ec1-264e-4dff-b5be-a13577b64be5",
        "colab": {
          "base_uri": "https://localhost:8080/",
          "height": 292
        }
      },
      "source": [
        "#Reading the top 5 rows of data\n",
        "df.head()"
      ],
      "execution_count": null,
      "outputs": [
        {
          "output_type": "execute_result",
          "data": {
            "text/html": [
              "<div>\n",
              "<style scoped>\n",
              "    .dataframe tbody tr th:only-of-type {\n",
              "        vertical-align: middle;\n",
              "    }\n",
              "\n",
              "    .dataframe tbody tr th {\n",
              "        vertical-align: top;\n",
              "    }\n",
              "\n",
              "    .dataframe thead th {\n",
              "        text-align: right;\n",
              "    }\n",
              "</style>\n",
              "<table border=\"1\" class=\"dataframe\">\n",
              "  <thead>\n",
              "    <tr style=\"text-align: right;\">\n",
              "      <th></th>\n",
              "      <th>User_ID</th>\n",
              "      <th>Product_ID</th>\n",
              "      <th>Gender</th>\n",
              "      <th>Age</th>\n",
              "      <th>Occupation</th>\n",
              "      <th>City_Category</th>\n",
              "      <th>Stay_In_Current_City_Years</th>\n",
              "      <th>Marital_Status</th>\n",
              "      <th>Product_Category_1</th>\n",
              "      <th>Product_Category_2</th>\n",
              "      <th>Product_Category_3</th>\n",
              "      <th>Purchase</th>\n",
              "    </tr>\n",
              "  </thead>\n",
              "  <tbody>\n",
              "    <tr>\n",
              "      <th>0</th>\n",
              "      <td>1000001</td>\n",
              "      <td>P00069042</td>\n",
              "      <td>F</td>\n",
              "      <td>0-17</td>\n",
              "      <td>10</td>\n",
              "      <td>A</td>\n",
              "      <td>2</td>\n",
              "      <td>0</td>\n",
              "      <td>3</td>\n",
              "      <td>NaN</td>\n",
              "      <td>NaN</td>\n",
              "      <td>8370</td>\n",
              "    </tr>\n",
              "    <tr>\n",
              "      <th>1</th>\n",
              "      <td>1000001</td>\n",
              "      <td>P00248942</td>\n",
              "      <td>F</td>\n",
              "      <td>0-17</td>\n",
              "      <td>10</td>\n",
              "      <td>A</td>\n",
              "      <td>2</td>\n",
              "      <td>0</td>\n",
              "      <td>1</td>\n",
              "      <td>6.0</td>\n",
              "      <td>14.0</td>\n",
              "      <td>15200</td>\n",
              "    </tr>\n",
              "    <tr>\n",
              "      <th>2</th>\n",
              "      <td>1000001</td>\n",
              "      <td>P00087842</td>\n",
              "      <td>F</td>\n",
              "      <td>0-17</td>\n",
              "      <td>10</td>\n",
              "      <td>A</td>\n",
              "      <td>2</td>\n",
              "      <td>0</td>\n",
              "      <td>12</td>\n",
              "      <td>NaN</td>\n",
              "      <td>NaN</td>\n",
              "      <td>1422</td>\n",
              "    </tr>\n",
              "    <tr>\n",
              "      <th>3</th>\n",
              "      <td>1000001</td>\n",
              "      <td>P00085442</td>\n",
              "      <td>F</td>\n",
              "      <td>0-17</td>\n",
              "      <td>10</td>\n",
              "      <td>A</td>\n",
              "      <td>2</td>\n",
              "      <td>0</td>\n",
              "      <td>12</td>\n",
              "      <td>14.0</td>\n",
              "      <td>NaN</td>\n",
              "      <td>1057</td>\n",
              "    </tr>\n",
              "    <tr>\n",
              "      <th>4</th>\n",
              "      <td>1000002</td>\n",
              "      <td>P00285442</td>\n",
              "      <td>M</td>\n",
              "      <td>55+</td>\n",
              "      <td>16</td>\n",
              "      <td>C</td>\n",
              "      <td>4+</td>\n",
              "      <td>0</td>\n",
              "      <td>8</td>\n",
              "      <td>NaN</td>\n",
              "      <td>NaN</td>\n",
              "      <td>7969</td>\n",
              "    </tr>\n",
              "  </tbody>\n",
              "</table>\n",
              "</div>"
            ],
            "text/plain": [
              "   User_ID Product_ID Gender  ... Product_Category_2  Product_Category_3 Purchase\n",
              "0  1000001  P00069042      F  ...                NaN                 NaN     8370\n",
              "1  1000001  P00248942      F  ...                6.0                14.0    15200\n",
              "2  1000001  P00087842      F  ...                NaN                 NaN     1422\n",
              "3  1000001  P00085442      F  ...               14.0                 NaN     1057\n",
              "4  1000002  P00285442      M  ...                NaN                 NaN     7969\n",
              "\n",
              "[5 rows x 12 columns]"
            ]
          },
          "metadata": {
            "tags": []
          },
          "execution_count": 188
        }
      ]
    },
    {
      "cell_type": "code",
      "metadata": {
        "id": "4gtnLhuFiNHB",
        "outputId": "1bec8d66-2e0e-4dcd-c83f-0c102078e0e3",
        "colab": {
          "base_uri": "https://localhost:8080/",
          "height": 309
        }
      },
      "source": [
        "#Reading the last 5 rows of data\n",
        "df.tail()"
      ],
      "execution_count": null,
      "outputs": [
        {
          "output_type": "execute_result",
          "data": {
            "text/html": [
              "<div>\n",
              "<style scoped>\n",
              "    .dataframe tbody tr th:only-of-type {\n",
              "        vertical-align: middle;\n",
              "    }\n",
              "\n",
              "    .dataframe tbody tr th {\n",
              "        vertical-align: top;\n",
              "    }\n",
              "\n",
              "    .dataframe thead th {\n",
              "        text-align: right;\n",
              "    }\n",
              "</style>\n",
              "<table border=\"1\" class=\"dataframe\">\n",
              "  <thead>\n",
              "    <tr style=\"text-align: right;\">\n",
              "      <th></th>\n",
              "      <th>User_ID</th>\n",
              "      <th>Product_ID</th>\n",
              "      <th>Gender</th>\n",
              "      <th>Age</th>\n",
              "      <th>Occupation</th>\n",
              "      <th>City_Category</th>\n",
              "      <th>Stay_In_Current_City_Years</th>\n",
              "      <th>Marital_Status</th>\n",
              "      <th>Product_Category_1</th>\n",
              "      <th>Product_Category_2</th>\n",
              "      <th>Product_Category_3</th>\n",
              "      <th>Purchase</th>\n",
              "    </tr>\n",
              "  </thead>\n",
              "  <tbody>\n",
              "    <tr>\n",
              "      <th>537572</th>\n",
              "      <td>1004737</td>\n",
              "      <td>P00193542</td>\n",
              "      <td>M</td>\n",
              "      <td>36-45</td>\n",
              "      <td>16</td>\n",
              "      <td>C</td>\n",
              "      <td>1</td>\n",
              "      <td>0</td>\n",
              "      <td>1</td>\n",
              "      <td>2.0</td>\n",
              "      <td>NaN</td>\n",
              "      <td>11664</td>\n",
              "    </tr>\n",
              "    <tr>\n",
              "      <th>537573</th>\n",
              "      <td>1004737</td>\n",
              "      <td>P00111142</td>\n",
              "      <td>M</td>\n",
              "      <td>36-45</td>\n",
              "      <td>16</td>\n",
              "      <td>C</td>\n",
              "      <td>1</td>\n",
              "      <td>0</td>\n",
              "      <td>1</td>\n",
              "      <td>15.0</td>\n",
              "      <td>16.0</td>\n",
              "      <td>19196</td>\n",
              "    </tr>\n",
              "    <tr>\n",
              "      <th>537574</th>\n",
              "      <td>1004737</td>\n",
              "      <td>P00345942</td>\n",
              "      <td>M</td>\n",
              "      <td>36-45</td>\n",
              "      <td>16</td>\n",
              "      <td>C</td>\n",
              "      <td>1</td>\n",
              "      <td>0</td>\n",
              "      <td>8</td>\n",
              "      <td>15.0</td>\n",
              "      <td>NaN</td>\n",
              "      <td>8043</td>\n",
              "    </tr>\n",
              "    <tr>\n",
              "      <th>537575</th>\n",
              "      <td>1004737</td>\n",
              "      <td>P00285842</td>\n",
              "      <td>M</td>\n",
              "      <td>36-45</td>\n",
              "      <td>16</td>\n",
              "      <td>C</td>\n",
              "      <td>1</td>\n",
              "      <td>0</td>\n",
              "      <td>5</td>\n",
              "      <td>NaN</td>\n",
              "      <td>NaN</td>\n",
              "      <td>7172</td>\n",
              "    </tr>\n",
              "    <tr>\n",
              "      <th>537576</th>\n",
              "      <td>1004737</td>\n",
              "      <td>P00118242</td>\n",
              "      <td>M</td>\n",
              "      <td>36-45</td>\n",
              "      <td>16</td>\n",
              "      <td>C</td>\n",
              "      <td>1</td>\n",
              "      <td>0</td>\n",
              "      <td>5</td>\n",
              "      <td>8.0</td>\n",
              "      <td>NaN</td>\n",
              "      <td>6875</td>\n",
              "    </tr>\n",
              "  </tbody>\n",
              "</table>\n",
              "</div>"
            ],
            "text/plain": [
              "        User_ID Product_ID  ... Product_Category_3 Purchase\n",
              "537572  1004737  P00193542  ...                NaN    11664\n",
              "537573  1004737  P00111142  ...               16.0    19196\n",
              "537574  1004737  P00345942  ...                NaN     8043\n",
              "537575  1004737  P00285842  ...                NaN     7172\n",
              "537576  1004737  P00118242  ...                NaN     6875\n",
              "\n",
              "[5 rows x 12 columns]"
            ]
          },
          "metadata": {
            "tags": []
          },
          "execution_count": 189
        }
      ]
    },
    {
      "cell_type": "markdown",
      "metadata": {
        "id": "pSUjjREeiWsl"
      },
      "source": [
        "# **AGE**"
      ]
    },
    {
      "cell_type": "code",
      "metadata": {
        "id": "cxBhJOrt6VtU",
        "outputId": "d43a4866-aac6-4ed2-88fa-21ec0a7429bc",
        "colab": {
          "base_uri": "https://localhost:8080/",
          "height": 34
        }
      },
      "source": [
        "print(df[\"Age\"].unique())"
      ],
      "execution_count": null,
      "outputs": [
        {
          "output_type": "stream",
          "text": [
            "['0-17' '55+' '26-35' '46-50' '51-55' '36-45' '18-25']\n"
          ],
          "name": "stdout"
        }
      ]
    },
    {
      "cell_type": "code",
      "metadata": {
        "id": "3XpPIz2WjhHv"
      },
      "source": [
        "AgesGroup =df[['Age', 'Purchase']].groupby(['Age'],sort = True).count()"
      ],
      "execution_count": null,
      "outputs": []
    },
    {
      "cell_type": "code",
      "metadata": {
        "id": "Qc6J0pkskPE4",
        "outputId": "e36c8ecb-486d-43f1-8900-27cee6beac13",
        "colab": {
          "base_uri": "https://localhost:8080/",
          "height": 314
        }
      },
      "source": [
        "AgesGroup.plot(kind='bar', color=['y'])\n",
        "plt.ylabel('Sales')\n",
        "plt.title(\"Sales made by each age group\")\n",
        "plt.show()"
      ],
      "execution_count": null,
      "outputs": [
        {
          "output_type": "display_data",
          "data": {
            "image/png": "[encoded data removed]",
            "text/plain": [
              "<Figure size 432x288 with 1 Axes>"
            ]
          },
          "metadata": {
            "tags": [],
            "needs_background": "light"
          }
        }
      ]
    },
    {
      "cell_type": "markdown",
      "metadata": {
        "id": "xHriD_D2lxIw"
      },
      "source": [
        "# **Gender**"
      ]
    },
    {
      "cell_type": "code",
      "metadata": {
        "id": "Fgg9MkXn51vr",
        "outputId": "e4f3612b-a3f2-4b0b-845f-994e9eaf5fa0",
        "colab": {
          "base_uri": "https://localhost:8080/",
          "height": 34
        }
      },
      "source": [
        "print(df[\"Gender\"].unique())"
      ],
      "execution_count": null,
      "outputs": [
        {
          "output_type": "stream",
          "text": [
            "['F' 'M']\n"
          ],
          "name": "stdout"
        }
      ]
    },
    {
      "cell_type": "markdown",
      "metadata": {
        "id": "VXxnnPxm6BpC"
      },
      "source": [
        "All Entries of the data belong to either Male gender or Female gender\n"
      ]
    },
    {
      "cell_type": "code",
      "metadata": {
        "id": "nWYFTLD4l9ij"
      },
      "source": [
        "GenderGroup =df[['Gender', 'Purchase']].groupby(['Gender'],sort = True).count()"
      ],
      "execution_count": null,
      "outputs": []
    },
    {
      "cell_type": "code",
      "metadata": {
        "id": "ndtOYSSWmKLR",
        "outputId": "2194394c-feaf-4c1d-ab93-d947ef92aec8",
        "colab": {
          "base_uri": "https://localhost:8080/",
          "height": 294
        }
      },
      "source": [
        "GenderGroup.plot(kind='bar',color=['b'],ylabel='Sales',title='Sales by Gender')\n",
        "plt.show()"
      ],
      "execution_count": null,
      "outputs": [
        {
          "output_type": "display_data",
          "data": {
            "image/png": "[encoded data removed]",
            "text/plain": [
              "<Figure size 432x288 with 1 Axes>"
            ]
          },
          "metadata": {
            "tags": [],
            "needs_background": "light"
          }
        }
      ]
    },
    {
      "cell_type": "markdown",
      "metadata": {
        "id": "uokYza-A2CqO"
      },
      "source": [
        "# **Market Segmentation (On the basis of Age and Gender)**"
      ]
    },
    {
      "cell_type": "code",
      "metadata": {
        "id": "6Cmq8ZT5x_FJ",
        "outputId": "65dabe92-7741-44dd-b516-004bf861b885",
        "colab": {
          "base_uri": "https://localhost:8080/",
          "height": 349
        }
      },
      "source": [
        "sns.countplot(df['Age'],hue=df['Gender'],palette =['pink','b'])\n",
        "plt.xlabel(\"Age\")\n",
        "plt.ylabel(\"Sales\")\n",
        "plt.legend()\n",
        "plt.title(\"Sales Breakdown by both Gender and Age\")\n",
        "plt.show()"
      ],
      "execution_count": null,
      "outputs": [
        {
          "output_type": "stream",
          "text": [
            "/usr/local/lib/python3.6/dist-packages/seaborn/_decorators.py:43: FutureWarning: Pass the following variable as a keyword arg: x. From version 0.12, the only valid positional argument will be `data`, and passing other arguments without an explicit keyword will result in an error or misinterpretation.\n",
            "  FutureWarning\n"
          ],
          "name": "stderr"
        },
        {
          "output_type": "display_data",
          "data": {
            "image/png": "[encoded data removed]",
            "text/plain": [
              "<Figure size 432x288 with 1 Axes>"
            ]
          },
          "metadata": {
            "tags": [],
            "needs_background": "light"
          }
        }
      ]
    },
    {
      "cell_type": "markdown",
      "metadata": {
        "id": "6HiBk6Mi5Xf4"
      },
      "source": [
        "# **CITY**"
      ]
    },
    {
      "cell_type": "code",
      "metadata": {
        "id": "jmVrh7UL5W3r",
        "outputId": "8e60db71-24a1-4733-f009-ebd41da48cac",
        "colab": {
          "base_uri": "https://localhost:8080/",
          "height": 34
        }
      },
      "source": [
        "print(df['City_Category'].unique())"
      ],
      "execution_count": null,
      "outputs": [
        {
          "output_type": "stream",
          "text": [
            "['A' 'C' 'B']\n"
          ],
          "name": "stdout"
        }
      ]
    },
    {
      "cell_type": "markdown",
      "metadata": {
        "id": "WBdlzBZY6tAT"
      },
      "source": [
        "The Cities are divided into 3 categories: A, B & C"
      ]
    },
    {
      "cell_type": "code",
      "metadata": {
        "id": "un3KFC1w8_Fu"
      },
      "source": [
        "City_A=0\n",
        "City_B=0\n",
        "City_C=0\n",
        "for i in range( 537577):\n",
        "  if df[\"City_Category\"][i]=='A':\n",
        "    City_A= City_A+1\n",
        "  elif df[\"City_Category\"][i]== 'B':\n",
        "    City_B= City_B+1\n",
        "  elif df[\"City_Category\"][i]== 'C':\n",
        "    City_C= City_C+1"
      ],
      "execution_count": null,
      "outputs": []
    },
    {
      "cell_type": "markdown",
      "metadata": {
        "id": "bx1gXF1Z__bL"
      },
      "source": [
        "*FOLLOWING DATA REPRESENTS THE NUMBER OF BUYERS FROM EACH CITY CATEGORY*"
      ]
    },
    {
      "cell_type": "code",
      "metadata": {
        "id": "tsa2ffFd-hqa",
        "outputId": "fa68999f-bf10-4fe6-cda8-4b9e0a850a8b",
        "colab": {
          "base_uri": "https://localhost:8080/",
          "height": 265
        }
      },
      "source": [
        "plt.pie([City_A,City_B,City_C], labels=['A','B','C'],radius=40)\n",
        "plt.axis('equal')\n",
        "plt.show()\n",
        "print('Number of buyers from each city category')"
      ],
      "execution_count": null,
      "outputs": [
        {
          "output_type": "display_data",
          "data": {
            "image/png": "[encoded data removed]",
            "text/plain": [
              "<Figure size 432x288 with 1 Axes>"
            ]
          },
          "metadata": {
            "tags": []
          }
        },
        {
          "output_type": "stream",
          "text": [
            "Number of buyers from each city category\n"
          ],
          "name": "stdout"
        }
      ]
    },
    {
      "cell_type": "markdown",
      "metadata": {
        "id": "Z2Frf3gv_k5k"
      },
      "source": [
        "*FOLLOWING DATA REPRESENTS THE SALES FROM EACH CITY*"
      ]
    },
    {
      "cell_type": "code",
      "metadata": {
        "id": "giuqB_3Z621a",
        "outputId": "bc81806b-f0db-4041-8f6c-0ab1807014f5",
        "colab": {
          "base_uri": "https://localhost:8080/",
          "height": 276
        }
      },
      "source": [
        "CityCategory =df[['City_Category', 'Purchase']].groupby(['City_Category'],sort = True).count()\n",
        "CityCategory.plot(kind='bar',color='r')\n",
        "plt.xlabel(\"City Category\")\n",
        "plt.ylabel(\"Sales\")\n",
        "plt.show()"
      ],
      "execution_count": null,
      "outputs": [
        {
          "output_type": "display_data",
          "data": {
            "image/png": "[encoded data removed]",
            "text/plain": [
              "<Figure size 432x288 with 1 Axes>"
            ]
          },
          "metadata": {
            "tags": [],
            "needs_background": "light"
          }
        }
      ]
    },
    {
      "cell_type": "code",
      "metadata": {
        "id": "GsnjfMz_Cotv",
        "outputId": "669aa760-6457-4230-d78b-30d53e744894",
        "colab": {
          "base_uri": "https://localhost:8080/",
          "height": 349
        }
      },
      "source": [
        "sns.countplot(df['City_Category'],hue=df['Age'])\n",
        "plt.xlabel(\"City Category\")\n",
        "plt.ylabel(\"Number of Buyers\")\n",
        "plt.legend()\n",
        "plt.title(\"Breaking down the buyers from each city category to their age group\")\n",
        "plt.show()"
      ],
      "execution_count": null,
      "outputs": [
        {
          "output_type": "stream",
          "text": [
            "/usr/local/lib/python3.6/dist-packages/seaborn/_decorators.py:43: FutureWarning: Pass the following variable as a keyword arg: x. From version 0.12, the only valid positional argument will be `data`, and passing other arguments without an explicit keyword will result in an error or misinterpretation.\n",
            "  FutureWarning\n"
          ],
          "name": "stderr"
        },
        {
          "output_type": "display_data",
          "data": {
            "image/png": "[encoded data removed]",
            "text/plain": [
              "<Figure size 432x288 with 1 Axes>"
            ]
          },
          "metadata": {
            "tags": [],
            "needs_background": "light"
          }
        }
      ]
    },
    {
      "cell_type": "markdown",
      "metadata": {
        "id": "pBrqG44_D_Pt"
      },
      "source": [
        "# **Marital Status**"
      ]
    },
    {
      "cell_type": "code",
      "metadata": {
        "id": "5k4gW-aNEEk_",
        "outputId": "c53e9f37-8cf6-48dd-bf15-a0d072731651",
        "colab": {
          "base_uri": "https://localhost:8080/",
          "height": 34
        }
      },
      "source": [
        "print(df['Marital_Status'].unique())"
      ],
      "execution_count": null,
      "outputs": [
        {
          "output_type": "stream",
          "text": [
            "[0 1]\n"
          ],
          "name": "stdout"
        }
      ]
    },
    {
      "cell_type": "markdown",
      "metadata": {
        "id": "JpDVkAwqEZW3"
      },
      "source": [
        "*There are two Marital Status*\n",
        "\n",
        "*Taking 0 as Bachelor* \n",
        "\n",
        "*Taking 1 as Married*"
      ]
    },
    {
      "cell_type": "code",
      "metadata": {
        "id": "oleeUHeFEqqE"
      },
      "source": [
        "Bachelor=0\n",
        "Married=0\n",
        "for i in range(537577):\n",
        "  if df['Marital_Status'][i]==0:\n",
        "    Bachelor=Bachelor+1\n",
        "  elif df['Marital_Status'][i]==1:\n",
        "    Married=Married +1"
      ],
      "execution_count": null,
      "outputs": []
    },
    {
      "cell_type": "code",
      "metadata": {
        "id": "xcg1y3PFFqGF",
        "outputId": "d7b201dd-0890-4893-c283-77f14f7f9878",
        "colab": {
          "base_uri": "https://localhost:8080/",
          "height": 265
        }
      },
      "source": [
        "plt.pie([Married,Bachelor], labels=['Married','Bachelor'])\n",
        "plt.axis('equal')\n",
        "plt.show()\n",
        "print(\"\\t   Marital status of buyers\")"
      ],
      "execution_count": null,
      "outputs": [
        {
          "output_type": "display_data",
          "data": {
            "image/png": "[encoded data removed]",
            "text/plain": [
              "<Figure size 432x288 with 1 Axes>"
            ]
          },
          "metadata": {
            "tags": []
          }
        },
        {
          "output_type": "stream",
          "text": [
            "\t   Marital status of buyers\n"
          ],
          "name": "stdout"
        }
      ]
    },
    {
      "cell_type": "markdown",
      "metadata": {
        "id": "eOIDJgMSNOCk"
      },
      "source": [
        "# **OVERALL SALES**"
      ]
    },
    {
      "cell_type": "code",
      "metadata": {
        "id": "rWarG7piNSyI",
        "outputId": "344dd758-964a-4ee2-f1b5-5340e73146cd",
        "colab": {
          "base_uri": "https://localhost:8080/",
          "height": 34
        }
      },
      "source": [
        "df['Purchase'].sum()"
      ],
      "execution_count": 211,
      "outputs": [
        {
          "output_type": "execute_result",
          "data": {
            "text/plain": [
              "5017668378"
            ]
          },
          "metadata": {
            "tags": []
          },
          "execution_count": 211
        }
      ]
    },
    {
      "cell_type": "markdown",
      "metadata": {
        "id": "dkx3u2PVOHaG"
      },
      "source": [
        "*Total Sales was over 5 Billion$*"
      ]
    }
  ]
}